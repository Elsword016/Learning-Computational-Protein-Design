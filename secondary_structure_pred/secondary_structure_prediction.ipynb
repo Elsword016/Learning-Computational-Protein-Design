{
 "cells": [
  {
   "cell_type": "markdown",
   "metadata": {},
   "source": [
    "## Secondary Structure Prediction of protein sequences using 1D CNN \n",
    "This is a very beginner friendly notebook to understand the basics of protein secondary structure prediction using 1D CNN. I am not focusing here to optimize the model (maybe in another notebook), I want to create a small model with 1D CNN layers to predict the secondary structures of a given protein sequence typically classified as H (Helix), E (Sheet) and C (coil). \n",
    "This is an example of **sequence-to-sequence** prediction task. \n",
    "\n",
    "### Dataset Used:\n",
    "From Kaggle [Protein Secondary Structure Prediction-2022](https://www.kaggle.com/datasets/kirkdco/protein-secondary-structure-2022/data) "
   ]
  },
  {
   "cell_type": "code",
   "execution_count": 1,
   "metadata": {},
   "outputs": [],
   "source": [
    "import pandas as pd \n",
    "import matplotlib.pyplot as plt \n",
    "import seaborn as sns \n",
    "import numpy as np "
   ]
  },
  {
   "cell_type": "markdown",
   "metadata": {},
   "source": [
    "### Data Preprocessing \n",
    "Few things we need to make sure before even going to the model building process:\n",
    "1. Verify that for every single protein entry, the length of the amino acid sequence string is identical to the length of the secondary structure label string. Discard or fix any entries where they don't match.\n",
    "2. Check unique characters in amino acid sequence string and secondary structure label string.  \n",
    "3. Non-standard amino acids and secondary structure labels should be removed or fixed. (In case there is none as indicated by `has_nonstd_aa` = `False`)"
   ]
  },
  {
   "cell_type": "code",
   "execution_count": 2,
   "metadata": {},
   "outputs": [
    {
     "data": {
      "text/html": [
       "<div>\n",
       "<style scoped>\n",
       "    .dataframe tbody tr th:only-of-type {\n",
       "        vertical-align: middle;\n",
       "    }\n",
       "\n",
       "    .dataframe tbody tr th {\n",
       "        vertical-align: top;\n",
       "    }\n",
       "\n",
       "    .dataframe thead th {\n",
       "        text-align: right;\n",
       "    }\n",
       "</style>\n",
       "<table border=\"1\" class=\"dataframe\">\n",
       "  <thead>\n",
       "    <tr style=\"text-align: right;\">\n",
       "      <th></th>\n",
       "      <th>pdb_id</th>\n",
       "      <th>chain_code</th>\n",
       "      <th>seq</th>\n",
       "      <th>sst8</th>\n",
       "      <th>sst3</th>\n",
       "      <th>len_x</th>\n",
       "      <th>has_nonstd_aa</th>\n",
       "      <th>len_y</th>\n",
       "      <th>method</th>\n",
       "      <th>resol</th>\n",
       "      <th>rfac</th>\n",
       "      <th>freerfac</th>\n",
       "    </tr>\n",
       "  </thead>\n",
       "  <tbody>\n",
       "    <tr>\n",
       "      <th>0</th>\n",
       "      <td>5D8V</td>\n",
       "      <td>A</td>\n",
       "      <td>AAPANAVTADDPTAIALKYNQDATKSERVAAARPGLPPEEQHCANC...</td>\n",
       "      <td>CCCTTBCCTTCHHHHHHTCBSSGGGSCHHHHCCTTSCGGGCCGGGB...</td>\n",
       "      <td>CCCCCECCCCCHHHHHHCCECCHHHCCHHHHCCCCCCHHHCCHHHE...</td>\n",
       "      <td>83</td>\n",
       "      <td>False</td>\n",
       "      <td>83</td>\n",
       "      <td>XRAY</td>\n",
       "      <td>0.48</td>\n",
       "      <td>0.072</td>\n",
       "      <td>0.078</td>\n",
       "    </tr>\n",
       "    <tr>\n",
       "      <th>1</th>\n",
       "      <td>3NIR</td>\n",
       "      <td>A</td>\n",
       "      <td>TTCCPSIVARSNFNVCRLPGTPEALCATYTGCIIIPGATCPGDYAN</td>\n",
       "      <td>CEECSSHHHHHHHHHHHTTTCCHHHHHHHHSCEECSSSCCCTTSCC</td>\n",
       "      <td>CEECCCHHHHHHHHHHHCCCCCHHHHHHHHCCEECCCCCCCCCCCC</td>\n",
       "      <td>46</td>\n",
       "      <td>False</td>\n",
       "      <td>46</td>\n",
       "      <td>XRAY</td>\n",
       "      <td>0.48</td>\n",
       "      <td>0.127</td>\n",
       "      <td>NaN</td>\n",
       "    </tr>\n",
       "    <tr>\n",
       "      <th>2</th>\n",
       "      <td>5NW3</td>\n",
       "      <td>A</td>\n",
       "      <td>MAKWVCKICGYIYDEDAGDPDNGISPGTKFEELPDDWVCPICGAPK...</td>\n",
       "      <td>CCEEEETTTCCEEETTTCBGGGTBCTTCCGGGSCTTCBCTTTCCBG...</td>\n",
       "      <td>CCEEEECCCCCEEECCCCEHHHCECCCCCHHHCCCCCECCCCCCEH...</td>\n",
       "      <td>54</td>\n",
       "      <td>False</td>\n",
       "      <td>54</td>\n",
       "      <td>XRAY</td>\n",
       "      <td>0.59</td>\n",
       "      <td>0.135</td>\n",
       "      <td>0.146</td>\n",
       "    </tr>\n",
       "  </tbody>\n",
       "</table>\n",
       "</div>"
      ],
      "text/plain": [
       "  pdb_id chain_code                                                seq  \\\n",
       "0   5D8V          A  AAPANAVTADDPTAIALKYNQDATKSERVAAARPGLPPEEQHCANC...   \n",
       "1   3NIR          A     TTCCPSIVARSNFNVCRLPGTPEALCATYTGCIIIPGATCPGDYAN   \n",
       "2   5NW3          A  MAKWVCKICGYIYDEDAGDPDNGISPGTKFEELPDDWVCPICGAPK...   \n",
       "\n",
       "                                                sst8  \\\n",
       "0  CCCTTBCCTTCHHHHHHTCBSSGGGSCHHHHCCTTSCGGGCCGGGB...   \n",
       "1     CEECSSHHHHHHHHHHHTTTCCHHHHHHHHSCEECSSSCCCTTSCC   \n",
       "2  CCEEEETTTCCEEETTTCBGGGTBCTTCCGGGSCTTCBCTTTCCBG...   \n",
       "\n",
       "                                                sst3  len_x  has_nonstd_aa  \\\n",
       "0  CCCCCECCCCCHHHHHHCCECCHHHCCHHHHCCCCCCHHHCCHHHE...     83          False   \n",
       "1     CEECCCHHHHHHHHHHHCCCCCHHHHHHHHCCEECCCCCCCCCCCC     46          False   \n",
       "2  CCEEEECCCCCEEECCCCEHHHCECCCCCHHHCCCCCECCCCCCEH...     54          False   \n",
       "\n",
       "   len_y method  resol   rfac  freerfac  \n",
       "0     83   XRAY   0.48  0.072     0.078  \n",
       "1     46   XRAY   0.48  0.127       NaN  \n",
       "2     54   XRAY   0.59  0.135     0.146  "
      ]
     },
     "execution_count": 2,
     "metadata": {},
     "output_type": "execute_result"
    }
   ],
   "source": [
    "df = pd.read_csv(\"2022-12-17-pdb-intersect-pisces_pc30_r2.5.csv\")\n",
    "df.head(3)"
   ]
  },
  {
   "cell_type": "code",
   "execution_count": 3,
   "metadata": {},
   "outputs": [
    {
     "data": {
      "text/plain": [
       "True"
      ]
     },
     "execution_count": 3,
     "metadata": {},
     "output_type": "execute_result"
    }
   ],
   "source": [
    "#check if the seq len = sst3 \n",
    "len(df['seq']) == len(df['sst3'])"
   ]
  },
  {
   "cell_type": "code",
   "execution_count": 4,
   "metadata": {},
   "outputs": [
    {
     "data": {
      "text/plain": [
       "array([False])"
      ]
     },
     "execution_count": 4,
     "metadata": {},
     "output_type": "execute_result"
    }
   ],
   "source": [
    "df['has_nonstd_aa'].unique()"
   ]
  },
  {
   "cell_type": "code",
   "execution_count": 5,
   "metadata": {},
   "outputs": [
    {
     "data": {
      "text/plain": [
       "Index(['pdb_id', 'chain_code', 'seq', 'sst8', 'sst3', 'len_x', 'has_nonstd_aa',\n",
       "       'len_y', 'method', 'resol', 'rfac', 'freerfac'],\n",
       "      dtype='object')"
      ]
     },
     "execution_count": 5,
     "metadata": {},
     "output_type": "execute_result"
    }
   ],
   "source": [
    "df.columns "
   ]
  },
  {
   "cell_type": "code",
   "execution_count": 6,
   "metadata": {},
   "outputs": [],
   "source": [
    "df.drop(columns=['chain_code','sst8','len_x','len_y','has_nonstd_aa','method','resol','rfac','freerfac'], inplace=True)"
   ]
  },
  {
   "cell_type": "markdown",
   "metadata": {},
   "source": [
    "### Features and target variable \n",
    "1. Features are amino acid sequences `seq`.\n",
    "2. Target variable is secondary structure labels in this case we have two `sst3` and `sst8`. Here I used `sst3` (3 category secondary structure classification), this is the target output (Y). These strings ( containing 'H', 'E', 'C') represent the ground truth labels for each amino acid in the corresponding `seq` column. `sst8` is the 8 category secondary structure classification. More complex. For now I ignored it"
   ]
  },
  {
   "cell_type": "code",
   "execution_count": 7,
   "metadata": {},
   "outputs": [
    {
     "data": {
      "text/html": [
       "<div>\n",
       "<style scoped>\n",
       "    .dataframe tbody tr th:only-of-type {\n",
       "        vertical-align: middle;\n",
       "    }\n",
       "\n",
       "    .dataframe tbody tr th {\n",
       "        vertical-align: top;\n",
       "    }\n",
       "\n",
       "    .dataframe thead th {\n",
       "        text-align: right;\n",
       "    }\n",
       "</style>\n",
       "<table border=\"1\" class=\"dataframe\">\n",
       "  <thead>\n",
       "    <tr style=\"text-align: right;\">\n",
       "      <th></th>\n",
       "      <th>pdb_id</th>\n",
       "      <th>seq</th>\n",
       "      <th>sst3</th>\n",
       "    </tr>\n",
       "  </thead>\n",
       "  <tbody>\n",
       "    <tr>\n",
       "      <th>0</th>\n",
       "      <td>5D8V</td>\n",
       "      <td>AAPANAVTADDPTAIALKYNQDATKSERVAAARPGLPPEEQHCANC...</td>\n",
       "      <td>CCCCCECCCCCHHHHHHCCECCHHHCCHHHHCCCCCCHHHCCHHHE...</td>\n",
       "    </tr>\n",
       "    <tr>\n",
       "      <th>1</th>\n",
       "      <td>3NIR</td>\n",
       "      <td>TTCCPSIVARSNFNVCRLPGTPEALCATYTGCIIIPGATCPGDYAN</td>\n",
       "      <td>CEECCCHHHHHHHHHHHCCCCCHHHHHHHHCCEECCCCCCCCCCCC</td>\n",
       "    </tr>\n",
       "    <tr>\n",
       "      <th>2</th>\n",
       "      <td>5NW3</td>\n",
       "      <td>MAKWVCKICGYIYDEDAGDPDNGISPGTKFEELPDDWVCPICGAPK...</td>\n",
       "      <td>CCEEEECCCCCEEECCCCEHHHCECCCCCHHHCCCCCECCCCCCEH...</td>\n",
       "    </tr>\n",
       "  </tbody>\n",
       "</table>\n",
       "</div>"
      ],
      "text/plain": [
       "  pdb_id                                                seq  \\\n",
       "0   5D8V  AAPANAVTADDPTAIALKYNQDATKSERVAAARPGLPPEEQHCANC...   \n",
       "1   3NIR     TTCCPSIVARSNFNVCRLPGTPEALCATYTGCIIIPGATCPGDYAN   \n",
       "2   5NW3  MAKWVCKICGYIYDEDAGDPDNGISPGTKFEELPDDWVCPICGAPK...   \n",
       "\n",
       "                                                sst3  \n",
       "0  CCCCCECCCCCHHHHHHCCECCHHHCCHHHHCCCCCCHHHCCHHHE...  \n",
       "1     CEECCCHHHHHHHHHHHCCCCCHHHHHHHHCCEECCCCCCCCCCCC  \n",
       "2  CCEEEECCCCCEEECCCCEHHHCECCCCCHHHCCCCCECCCCCCEH...  "
      ]
     },
     "execution_count": 7,
     "metadata": {},
     "output_type": "execute_result"
    }
   ],
   "source": [
    "df.head(3)"
   ]
  },
  {
   "cell_type": "markdown",
   "metadata": {},
   "source": [
    "### Encoding sequences \n",
    "The most important part of the model building process is encoding the sequences and secondary structure labels.  ML models work with numbers and not strings. I used very simple encoding scheme for amino acids and secondary structure labels. \n",
    "\n",
    "I used unique integer indices for each possible character for amino acids and secondary structure labels.\n",
    "```python\n",
    "Unique amino acids: ['A', 'C', 'D', 'E', 'F', 'G', 'H', 'I', 'K', 'L', 'M', 'N', 'P', 'Q', 'R', 'S', 'T', 'V', 'W', 'X', 'Y']\n",
    "Unique secondary structure states: ['C', 'E', 'H']\n",
    "```\n",
    "Next, padding token `<PAD>` is added to the beginning of the list of amino acids and secondary structure states.  This is done to ensure that all sequences have the same length which is ncessary for batch processing in the model.   \n",
    "\n",
    "For example: \n",
    "```python\n",
    "Unique amino acids: ['<PAD>', 'A', 'C', 'D', 'E', 'F', 'G', 'H', 'I', 'K', 'L', 'M', 'N', 'P', 'Q', 'R', 'S', 'T', 'V', 'W', 'X', 'Y']\n",
    "Unique secondary structure states: ['<PAD>', 'C', 'E', 'H']\n",
    "```\n",
    "One sequence might have 100 length and another 150. This mismatch prevents stacking them into a single tensor. Padding is added to the shorter sequence to make it 150.  \n",
    "\n",
    "The `<PAD>` token is given its own unique integer index.  Here, i added to the first index of the list of amino acids and secondary structure states.  During model training and evaluation we tell the model to ignore this padding token.    "
   ]
  },
  {
   "cell_type": "code",
   "execution_count": 8,
   "metadata": {},
   "outputs": [
    {
     "name": "stdout",
     "output_type": "stream",
     "text": [
      "Unique amino acids: ['A', 'C', 'D', 'E', 'F', 'G', 'H', 'I', 'K', 'L', 'M', 'N', 'P', 'Q', 'R', 'S', 'T', 'V', 'W', 'X', 'Y']\n",
      "Unique secondary structure states: ['C', 'E', 'H']\n"
     ]
    }
   ],
   "source": [
    "##Encoding \n",
    "seq_chars = set(\"\".join(df['seq'].tolist())) \n",
    "sst3_chars = set(\"\".join(df['sst3'].tolist())) \n",
    "print(f'Unique amino acids: {sorted(list(seq_chars))}')\n",
    "print(f'Unique secondary structure states: {sorted(list(sst3_chars))}')"
   ]
  },
  {
   "cell_type": "code",
   "execution_count": 9,
   "metadata": {},
   "outputs": [
    {
     "name": "stdout",
     "output_type": "stream",
     "text": [
      "AA Vocab Size: 22\n",
      "SST3 Vocab Size: 4\n",
      "AA PAD ID: 0\n",
      "SST3 PAD ID: 0\n"
     ]
    }
   ],
   "source": [
    "##Encoding \n",
    "aa_list = sorted(list(seq_chars))\n",
    "ss_list = sorted(list(sst3_chars)) \n",
    "\n",
    "PAD_TOKEN = '<PAD>'\n",
    "aa_list_pad = [PAD_TOKEN] + aa_list\n",
    "ss_list_pad = [PAD_TOKEN] + ss_list \n",
    "\n",
    "#creating mappings \n",
    "aa_to_idx = {aa: idx for idx, aa in enumerate(aa_list_pad)}\n",
    "ss_to_idx = {ss: idx for idx, ss in enumerate(ss_list_pad)}\n",
    "\n",
    "#reverse mappings \n",
    "aa_idx_to_aa = {idx: aa for idx, aa in enumerate(aa_list_pad)}\n",
    "ss_idx_to_ss = {idx: ss for idx, ss in enumerate(ss_list_pad)}\n",
    "\n",
    "PAD_ID_AA = aa_to_idx[PAD_TOKEN]\n",
    "PAD_ID_SS = ss_to_idx[PAD_TOKEN]\n",
    "\n",
    "print(\"AA Vocab Size:\", len(aa_list_pad))\n",
    "print(\"SST3 Vocab Size:\", len(ss_list_pad))\n",
    "print(\"AA PAD ID:\", PAD_ID_AA)\n",
    "print(\"SST3 PAD ID:\", PAD_ID_SS) \n"
   ]
  },
  {
   "cell_type": "code",
   "execution_count": 10,
   "metadata": {},
   "outputs": [
    {
     "data": {
      "text/plain": [
       "{'<PAD>': 0,\n",
       " 'A': 1,\n",
       " 'C': 2,\n",
       " 'D': 3,\n",
       " 'E': 4,\n",
       " 'F': 5,\n",
       " 'G': 6,\n",
       " 'H': 7,\n",
       " 'I': 8,\n",
       " 'K': 9,\n",
       " 'L': 10,\n",
       " 'M': 11,\n",
       " 'N': 12,\n",
       " 'P': 13,\n",
       " 'Q': 14,\n",
       " 'R': 15,\n",
       " 'S': 16,\n",
       " 'T': 17,\n",
       " 'V': 18,\n",
       " 'W': 19,\n",
       " 'X': 20,\n",
       " 'Y': 21}"
      ]
     },
     "execution_count": 10,
     "metadata": {},
     "output_type": "execute_result"
    }
   ],
   "source": [
    "aa_to_idx"
   ]
  },
  {
   "cell_type": "code",
   "execution_count": 46,
   "metadata": {},
   "outputs": [
    {
     "data": {
      "text/plain": [
       "{'<PAD>': 0, 'C': 1, 'E': 2, 'H': 3}"
      ]
     },
     "execution_count": 46,
     "metadata": {},
     "output_type": "execute_result"
    }
   ],
   "source": [
    "ss_to_idx "
   ]
  },
  {
   "cell_type": "code",
   "execution_count": 11,
   "metadata": {},
   "outputs": [],
   "source": [
    "#add mappings \n",
    "df['seq_idx'] = df['seq'].apply(lambda x: [aa_to_idx[aa] for aa in x])\n",
    "df['ss_idx'] = df['sst3'].apply(lambda x: [ss_to_idx[ss] for ss in x]) "
   ]
  },
  {
   "cell_type": "code",
   "execution_count": 12,
   "metadata": {},
   "outputs": [
    {
     "name": "stdout",
     "output_type": "stream",
     "text": [
      "                                                 seq  \\\n",
      "0  AAPANAVTADDPTAIALKYNQDATKSERVAAARPGLPPEEQHCANC...   \n",
      "1     TTCCPSIVARSNFNVCRLPGTPEALCATYTGCIIIPGATCPGDYAN   \n",
      "2  MAKWVCKICGYIYDEDAGDPDNGISPGTKFEELPDDWVCPICGAPK...   \n",
      "3  NKASVVANQLIPINTALTLIMMKAEVVTPMGIPAEEIPKLVGMQVN...   \n",
      "4  ATGGYVQQATGQASFTMYSGCGSPACGKAASGFTAAINQLAFGSAP...   \n",
      "\n",
      "                                             seq_idx  \\\n",
      "0  [1, 1, 13, 1, 12, 1, 18, 17, 1, 3, 3, 13, 17, ...   \n",
      "1  [17, 17, 2, 2, 13, 16, 8, 18, 1, 15, 16, 12, 5...   \n",
      "2  [11, 1, 9, 19, 18, 2, 9, 8, 2, 6, 21, 8, 21, 3...   \n",
      "3  [12, 9, 1, 16, 18, 18, 1, 12, 14, 10, 8, 13, 8...   \n",
      "4  [1, 17, 6, 6, 21, 18, 14, 14, 1, 17, 6, 14, 1,...   \n",
      "\n",
      "                                                sst3  \\\n",
      "0  CCCCCECCCCCHHHHHHCCECCHHHCCHHHHCCCCCCHHHCCHHHE...   \n",
      "1     CEECCCHHHHHHHHHHHCCCCCHHHHHHHHCCEECCCCCCCCCCCC   \n",
      "2  CCEEEECCCCCEEECCCCEHHHCECCCCCHHHCCCCCECCCCCCEH...   \n",
      "3  CCCEEEECCCECCCCECCHHHEEEECCCCCCCEHHHHHHHCCCEEC...   \n",
      "4  CHHHCCCCCEEEEEEEEECCCCCCCCCCCECCCEEEEEHHHHCCCC...   \n",
      "\n",
      "                                              ss_idx  \n",
      "0  [1, 1, 1, 1, 1, 2, 1, 1, 1, 1, 1, 3, 3, 3, 3, ...  \n",
      "1  [1, 2, 2, 1, 1, 1, 3, 3, 3, 3, 3, 3, 3, 3, 3, ...  \n",
      "2  [1, 1, 2, 2, 2, 2, 1, 1, 1, 1, 1, 2, 2, 2, 1, ...  \n",
      "3  [1, 1, 1, 2, 2, 2, 2, 1, 1, 1, 2, 1, 1, 1, 1, ...  \n",
      "4  [1, 3, 3, 3, 1, 1, 1, 1, 1, 2, 2, 2, 2, 2, 2, ...  \n"
     ]
    }
   ],
   "source": [
    "print(df[['seq', 'seq_idx', 'sst3', 'ss_idx']].head()) "
   ]
  },
  {
   "cell_type": "code",
   "execution_count": 13,
   "metadata": {},
   "outputs": [
    {
     "data": {
      "text/html": [
       "<div>\n",
       "<style scoped>\n",
       "    .dataframe tbody tr th:only-of-type {\n",
       "        vertical-align: middle;\n",
       "    }\n",
       "\n",
       "    .dataframe tbody tr th {\n",
       "        vertical-align: top;\n",
       "    }\n",
       "\n",
       "    .dataframe thead th {\n",
       "        text-align: right;\n",
       "    }\n",
       "</style>\n",
       "<table border=\"1\" class=\"dataframe\">\n",
       "  <thead>\n",
       "    <tr style=\"text-align: right;\">\n",
       "      <th></th>\n",
       "      <th>pdb_id</th>\n",
       "      <th>seq_idx</th>\n",
       "      <th>ss_idx</th>\n",
       "    </tr>\n",
       "  </thead>\n",
       "  <tbody>\n",
       "    <tr>\n",
       "      <th>0</th>\n",
       "      <td>5D8V</td>\n",
       "      <td>[1, 1, 13, 1, 12, 1, 18, 17, 1, 3, 3, 13, 17, ...</td>\n",
       "      <td>[1, 1, 1, 1, 1, 2, 1, 1, 1, 1, 1, 3, 3, 3, 3, ...</td>\n",
       "    </tr>\n",
       "    <tr>\n",
       "      <th>1</th>\n",
       "      <td>3NIR</td>\n",
       "      <td>[17, 17, 2, 2, 13, 16, 8, 18, 1, 15, 16, 12, 5...</td>\n",
       "      <td>[1, 2, 2, 1, 1, 1, 3, 3, 3, 3, 3, 3, 3, 3, 3, ...</td>\n",
       "    </tr>\n",
       "    <tr>\n",
       "      <th>2</th>\n",
       "      <td>5NW3</td>\n",
       "      <td>[11, 1, 9, 19, 18, 2, 9, 8, 2, 6, 21, 8, 21, 3...</td>\n",
       "      <td>[1, 1, 2, 2, 2, 2, 1, 1, 1, 1, 1, 2, 2, 2, 1, ...</td>\n",
       "    </tr>\n",
       "    <tr>\n",
       "      <th>3</th>\n",
       "      <td>1UCS</td>\n",
       "      <td>[12, 9, 1, 16, 18, 18, 1, 12, 14, 10, 8, 13, 8...</td>\n",
       "      <td>[1, 1, 1, 2, 2, 2, 2, 1, 1, 1, 2, 1, 1, 1, 1, ...</td>\n",
       "    </tr>\n",
       "    <tr>\n",
       "      <th>4</th>\n",
       "      <td>3X2M</td>\n",
       "      <td>[1, 17, 6, 6, 21, 18, 14, 14, 1, 17, 6, 14, 1,...</td>\n",
       "      <td>[1, 3, 3, 3, 1, 1, 1, 1, 1, 2, 2, 2, 2, 2, 2, ...</td>\n",
       "    </tr>\n",
       "  </tbody>\n",
       "</table>\n",
       "</div>"
      ],
      "text/plain": [
       "  pdb_id                                            seq_idx  \\\n",
       "0   5D8V  [1, 1, 13, 1, 12, 1, 18, 17, 1, 3, 3, 13, 17, ...   \n",
       "1   3NIR  [17, 17, 2, 2, 13, 16, 8, 18, 1, 15, 16, 12, 5...   \n",
       "2   5NW3  [11, 1, 9, 19, 18, 2, 9, 8, 2, 6, 21, 8, 21, 3...   \n",
       "3   1UCS  [12, 9, 1, 16, 18, 18, 1, 12, 14, 10, 8, 13, 8...   \n",
       "4   3X2M  [1, 17, 6, 6, 21, 18, 14, 14, 1, 17, 6, 14, 1,...   \n",
       "\n",
       "                                              ss_idx  \n",
       "0  [1, 1, 1, 1, 1, 2, 1, 1, 1, 1, 1, 3, 3, 3, 3, ...  \n",
       "1  [1, 2, 2, 1, 1, 1, 3, 3, 3, 3, 3, 3, 3, 3, 3, ...  \n",
       "2  [1, 1, 2, 2, 2, 2, 1, 1, 1, 1, 1, 2, 2, 2, 1, ...  \n",
       "3  [1, 1, 1, 2, 2, 2, 2, 1, 1, 1, 2, 1, 1, 1, 1, ...  \n",
       "4  [1, 3, 3, 3, 1, 1, 1, 1, 1, 2, 2, 2, 2, 2, 2, ...  "
      ]
     },
     "execution_count": 13,
     "metadata": {},
     "output_type": "execute_result"
    }
   ],
   "source": [
    "df.drop(columns=['seq','sst3'], inplace=True)\n",
    "df.head()"
   ]
  },
  {
   "cell_type": "markdown",
   "metadata": {},
   "source": [
    "### Data Spliting \n",
    "Now, most of the times we would just randomly split the data into train, validation and test sets. However, in this case we have to be careful. **Many proteins are evolutionary related and have same/similar sequences**. If highly similar proteins end up in both your training and testing sets, your model's test performance will be artificially inflated because it has essentially seen the answers before.\n",
    "\n",
    "To avoid this, I identified unique proteins (e.g., using PDB IDs or clustering similar sequences). I then split these unique identifiers into train, validation, and test groups (e.g., 70%/15%/15%)and then collected all the data rows corresponding to the identifiers in each group to form your final datasets. "
   ]
  },
  {
   "cell_type": "code",
   "execution_count": 14,
   "metadata": {},
   "outputs": [
    {
     "name": "stdout",
     "output_type": "stream",
     "text": [
      "Number of unique proteins: 14557\n"
     ]
    }
   ],
   "source": [
    "#data split \n",
    "from sklearn.model_selection import train_test_split \n",
    "unique_protein_ids = df['pdb_id'].unique()\n",
    "print(f'Number of unique proteins: {len(unique_protein_ids)}')"
   ]
  },
  {
   "cell_type": "code",
   "execution_count": 15,
   "metadata": {},
   "outputs": [
    {
     "name": "stdout",
     "output_type": "stream",
     "text": [
      "Number of training proteins: 10517\n",
      "Number of validation proteins: 1856\n",
      "Number of test proteins: 2184\n"
     ]
    }
   ],
   "source": [
    "train_ids, test_ids = train_test_split(unique_protein_ids, test_size=0.15, random_state=42)\n",
    "train_ids, val_ids = train_test_split(train_ids, test_size=0.15, random_state=42) \n",
    "\n",
    "print(f\"Number of training proteins: {len(train_ids)}\")\n",
    "print(f\"Number of validation proteins: {len(val_ids)}\")\n",
    "print(f\"Number of test proteins: {len(test_ids)}\") "
   ]
  },
  {
   "cell_type": "code",
   "execution_count": 16,
   "metadata": {},
   "outputs": [
    {
     "name": "stdout",
     "output_type": "stream",
     "text": [
      "Number of training samples: 10898\n",
      "Number of validation samples: 1917\n",
      "Number of test samples: 2264\n"
     ]
    }
   ],
   "source": [
    "train_df = df[df['pdb_id'].isin(train_ids)].reset_index(drop=True)\n",
    "val_df = df[df['pdb_id'].isin(val_ids)].reset_index(drop=True)\n",
    "test_df = df[df['pdb_id'].isin(test_ids)].reset_index(drop=True)\n",
    "\n",
    "print(f\"Number of training samples: {len(train_df)}\")\n",
    "print(f\"Number of validation samples: {len(val_df)}\")\n",
    "print(f\"Number of test samples: {len(test_df)}\")\n"
   ]
  },
  {
   "cell_type": "code",
   "execution_count": 17,
   "metadata": {},
   "outputs": [],
   "source": [
    "import torch \n",
    "import torch.nn as nn \n",
    "import torch.optim as optim \n",
    "import torch.nn.functional as F \n",
    "from torch.nn.utils.rnn import pad_sequence\n",
    "from torch.utils.data import DataLoader,Dataset "
   ]
  },
  {
   "cell_type": "code",
   "execution_count": 18,
   "metadata": {},
   "outputs": [
    {
     "data": {
      "text/html": [
       "<div>\n",
       "<style scoped>\n",
       "    .dataframe tbody tr th:only-of-type {\n",
       "        vertical-align: middle;\n",
       "    }\n",
       "\n",
       "    .dataframe tbody tr th {\n",
       "        vertical-align: top;\n",
       "    }\n",
       "\n",
       "    .dataframe thead th {\n",
       "        text-align: right;\n",
       "    }\n",
       "</style>\n",
       "<table border=\"1\" class=\"dataframe\">\n",
       "  <thead>\n",
       "    <tr style=\"text-align: right;\">\n",
       "      <th></th>\n",
       "      <th>pdb_id</th>\n",
       "      <th>seq_idx</th>\n",
       "      <th>ss_idx</th>\n",
       "    </tr>\n",
       "  </thead>\n",
       "  <tbody>\n",
       "    <tr>\n",
       "      <th>0</th>\n",
       "      <td>5D8V</td>\n",
       "      <td>[1, 1, 13, 1, 12, 1, 18, 17, 1, 3, 3, 13, 17, ...</td>\n",
       "      <td>[1, 1, 1, 1, 1, 2, 1, 1, 1, 1, 1, 3, 3, 3, 3, ...</td>\n",
       "    </tr>\n",
       "    <tr>\n",
       "      <th>1</th>\n",
       "      <td>5NW3</td>\n",
       "      <td>[11, 1, 9, 19, 18, 2, 9, 8, 2, 6, 21, 8, 21, 3...</td>\n",
       "      <td>[1, 1, 2, 2, 2, 2, 1, 1, 1, 1, 1, 2, 2, 2, 1, ...</td>\n",
       "    </tr>\n",
       "  </tbody>\n",
       "</table>\n",
       "</div>"
      ],
      "text/plain": [
       "  pdb_id                                            seq_idx  \\\n",
       "0   5D8V  [1, 1, 13, 1, 12, 1, 18, 17, 1, 3, 3, 13, 17, ...   \n",
       "1   5NW3  [11, 1, 9, 19, 18, 2, 9, 8, 2, 6, 21, 8, 21, 3...   \n",
       "\n",
       "                                              ss_idx  \n",
       "0  [1, 1, 1, 1, 1, 2, 1, 1, 1, 1, 1, 3, 3, 3, 3, ...  \n",
       "1  [1, 1, 2, 2, 2, 2, 1, 1, 1, 1, 1, 2, 2, 2, 1, ...  "
      ]
     },
     "execution_count": 18,
     "metadata": {},
     "output_type": "execute_result"
    }
   ],
   "source": [
    "train_df.head(2)"
   ]
  },
  {
   "cell_type": "code",
   "execution_count": 19,
   "metadata": {},
   "outputs": [],
   "source": [
    "##Create custom dataset\n",
    "class ProteinSequenceDataset(Dataset):\n",
    "    def __init__(self,dataset):\n",
    "        self.seq = [torch.tensor(seq,dtype=torch.long) for seq in dataset['seq_idx'].tolist()]\n",
    "        self.labels = [torch.tensor(ss,dtype=torch.long) for ss in dataset['ss_idx'].tolist()] #secondary structure H,C,E \n",
    "        assert len(self.seq) == len(self.labels), \"Mismatch between number of sequences and labels\"\n",
    "    def __len__(self):\n",
    "        return len(self.seq)\n",
    "    \n",
    "    def __getitem__(self,idx):\n",
    "        return {'seq':self.seq[idx],'label':self.labels[idx]}"
   ]
  },
  {
   "cell_type": "code",
   "execution_count": 20,
   "metadata": {},
   "outputs": [
    {
     "name": "stdout",
     "output_type": "stream",
     "text": [
      "Train dataset size: 10898\n",
      "Sample sequence length: 83\n",
      "Sample label length: 83\n",
      "tensor([ 1,  1, 13,  1, 12,  1, 18, 17,  1,  3,  3, 13, 17,  1,  8,  1, 10,  9,\n",
      "        21, 12, 14,  3,  1, 17,  9, 16,  4, 15, 18,  1,  1,  1, 15, 13,  6, 10,\n",
      "        13, 13,  4,  4, 14,  7,  2,  1, 12,  2, 14,  5, 11, 14,  1, 12, 18,  6,\n",
      "         4,  6,  3, 19,  9,  6,  2, 14, 10,  5, 13,  6,  9, 10,  8, 12, 18, 12,\n",
      "         6, 19,  2,  1, 16, 19, 17, 10,  9,  1,  6])\n",
      "tensor([1, 1, 1, 1, 1, 2, 1, 1, 1, 1, 1, 3, 3, 3, 3, 3, 3, 1, 1, 2, 1, 1, 3, 3,\n",
      "        3, 1, 1, 3, 3, 3, 3, 1, 1, 1, 1, 1, 1, 3, 3, 3, 1, 1, 3, 3, 3, 2, 1, 1,\n",
      "        2, 2, 2, 2, 2, 2, 2, 1, 1, 2, 2, 2, 2, 1, 1, 1, 1, 1, 1, 2, 2, 2, 1, 1,\n",
      "        1, 2, 1, 1, 1, 1, 1, 2, 1, 1, 1])\n"
     ]
    }
   ],
   "source": [
    "train_dataset = ProteinSequenceDataset(train_df)\n",
    "val_dataset = ProteinSequenceDataset(val_df)\n",
    "test_dataset = ProteinSequenceDataset(test_df) \n",
    "\n",
    "print(\"Train dataset size:\", len(train_dataset))\n",
    "sample = train_dataset[0]\n",
    "print(f\"Sample sequence length: {len(sample['seq'])}\")\n",
    "print(f\"Sample label length: {len(sample['label'])}\")\n",
    "print(sample['seq'])\n",
    "print(sample['label']) "
   ]
  },
  {
   "cell_type": "code",
   "execution_count": 21,
   "metadata": {},
   "outputs": [],
   "source": [
    "def collate_fn(batch,pad_seq=PAD_ID_AA,pad_label=PAD_ID_SS):\n",
    "    seqs = [item['seq'] for item in batch]\n",
    "    ss = [item['label'] for item in batch]\n",
    "    padded_seqs = pad_sequence(seqs,batch_first=True,padding_value=pad_seq)\n",
    "    padded_ss = pad_sequence(ss,batch_first=True,padding_value=pad_label)\n",
    "    return padded_seqs,padded_ss "
   ]
  },
  {
   "cell_type": "code",
   "execution_count": 22,
   "metadata": {},
   "outputs": [
    {
     "name": "stdout",
     "output_type": "stream",
     "text": [
      "torch.Size([4, 180])\n",
      "torch.Size([4, 180])\n",
      "Example Padded Sequence: tensor([ 1,  1, 13,  1, 12,  1, 18, 17,  1,  3,  3, 13, 17,  1,  8,  1, 10,  9,\n",
      "        21, 12, 14,  3,  1, 17,  9, 16,  4, 15, 18,  1,  1,  1, 15, 13,  6, 10,\n",
      "        13, 13,  4,  4, 14,  7,  2,  1, 12,  2, 14,  5, 11, 14,  1, 12, 18,  6,\n",
      "         4,  6,  3, 19,  9,  6,  2, 14, 10,  5, 13,  6,  9, 10,  8, 12, 18, 12,\n",
      "         6, 19,  2,  1, 16, 19, 17, 10,  9,  1,  6,  0,  0,  0,  0,  0,  0,  0,\n",
      "         0,  0,  0,  0,  0,  0,  0,  0,  0,  0,  0,  0,  0,  0,  0,  0,  0,  0,\n",
      "         0,  0,  0,  0,  0,  0,  0,  0,  0,  0,  0,  0,  0,  0,  0,  0,  0,  0,\n",
      "         0,  0,  0,  0,  0,  0,  0,  0,  0,  0,  0,  0,  0,  0,  0,  0,  0,  0,\n",
      "         0,  0,  0,  0,  0,  0,  0,  0,  0,  0,  0,  0,  0,  0,  0,  0,  0,  0,\n",
      "         0,  0,  0,  0,  0,  0,  0,  0,  0,  0,  0,  0,  0,  0,  0,  0,  0,  0])\n",
      "Example Padded Label: tensor([1, 1, 1, 1, 1, 2, 1, 1, 1, 1, 1, 3, 3, 3, 3, 3, 3, 1, 1, 2, 1, 1, 3, 3,\n",
      "        3, 1, 1, 3, 3, 3, 3, 1, 1, 1, 1, 1, 1, 3, 3, 3, 1, 1, 3, 3, 3, 2, 1, 1,\n",
      "        2, 2, 2, 2, 2, 2, 2, 1, 1, 2, 2, 2, 2, 1, 1, 1, 1, 1, 1, 2, 2, 2, 1, 1,\n",
      "        1, 2, 1, 1, 1, 1, 1, 2, 1, 1, 1, 0, 0, 0, 0, 0, 0, 0, 0, 0, 0, 0, 0, 0,\n",
      "        0, 0, 0, 0, 0, 0, 0, 0, 0, 0, 0, 0, 0, 0, 0, 0, 0, 0, 0, 0, 0, 0, 0, 0,\n",
      "        0, 0, 0, 0, 0, 0, 0, 0, 0, 0, 0, 0, 0, 0, 0, 0, 0, 0, 0, 0, 0, 0, 0, 0,\n",
      "        0, 0, 0, 0, 0, 0, 0, 0, 0, 0, 0, 0, 0, 0, 0, 0, 0, 0, 0, 0, 0, 0, 0, 0,\n",
      "        0, 0, 0, 0, 0, 0, 0, 0, 0, 0, 0, 0])\n"
     ]
    }
   ],
   "source": [
    "dummy_batch = [train_dataset[i] for i in range(4)] \n",
    "padded_seqs_batch, padded_labels_batch = collate_fn(dummy_batch)\n",
    "print(padded_seqs_batch.shape)\n",
    "print(padded_labels_batch.shape)\n",
    "print(\"Example Padded Sequence:\", padded_seqs_batch[0])\n",
    "print(\"Example Padded Label:\", padded_labels_batch[0]) "
   ]
  },
  {
   "cell_type": "code",
   "execution_count": 23,
   "metadata": {},
   "outputs": [],
   "source": [
    "##dataloaders \n",
    "train_loader = DataLoader(train_dataset,batch_size=8,shuffle=True,collate_fn=collate_fn)\n",
    "val_loader = DataLoader(val_dataset,batch_size=8,shuffle=False,collate_fn=collate_fn)\n",
    "test_loader = DataLoader(test_dataset,batch_size=8,shuffle=False,collate_fn=collate_fn) "
   ]
  },
  {
   "cell_type": "code",
   "execution_count": 24,
   "metadata": {},
   "outputs": [
    {
     "name": "stdout",
     "output_type": "stream",
     "text": [
      "torch.Size([8, 784])\n",
      "torch.Size([8, 784])\n"
     ]
    }
   ],
   "source": [
    "sample_batch = next(iter(train_loader))\n",
    "print(sample_batch[0].shape)\n",
    "print(sample_batch[1].shape)"
   ]
  },
  {
   "cell_type": "markdown",
   "metadata": {},
   "source": [
    "## Model \n",
    "I made a simple model with activations and 1D CNN blocks and get the logits as output. The model looks like this:\n",
    "\n",
    "Embedding -> Dropout -> (1D CNN -> RELU -> Dropout -> ) -> (1D CNN -> RELU -> Dropout -> ) -> (1D CNN -> RELU -> Dropout -> ) -> FC -> Logits \n",
    "\n",
    "\n",
    "- Embedding -> Dropout: The initial embedding is followed immediately by dropout \n",
    "- (...) -> (...) -> (...): The sequence of Convolutional layer (with a specific kernel size), ReLU activation, and Dropout repeats three times, once for each kernel size (3, 4, and 5).\n",
    "- FC -> Logits: The final fully connected layer maps the features to logits. \n"
   ]
  },
  {
   "cell_type": "code",
   "execution_count": 25,
   "metadata": {},
   "outputs": [],
   "source": [
    "## model \n",
    "class SecondaryStructurePredictor(nn.Module):\n",
    "    def __init__(self,aa_vocab_size,num_classes_ss,embed_dim,cnn_channels,kernel_sizes,dropout_rate,pad_idx_aa):\n",
    "        super().__init__() \n",
    "        self.pad_idx_aa = pad_idx_aa\n",
    "        self.embed_dim = embed_dim \n",
    "        self.cnn_channels = cnn_channels \n",
    "\n",
    "        #1. Embedding layer \n",
    "        self.embeding = nn.Embedding(\n",
    "            num_embeddings = aa_vocab_size,\n",
    "            embedding_dim = embed_dim,\n",
    "            padding_idx = pad_idx_aa\n",
    "        )\n",
    "\n",
    "        #2.CNN layer-1d CNN \n",
    "        self.conv_layers = nn.ModuleList()\n",
    "        in_channels = embed_dim \n",
    "        for i,k_size in enumerate(kernel_sizes):\n",
    "            conv_layer = nn.Conv1d(\n",
    "                in_channels = in_channels,\n",
    "                out_channels = cnn_channels,\n",
    "                kernel_size = k_size,\n",
    "                padding = 'same'\n",
    "            )\n",
    "            self.conv_layers.append(conv_layer)\n",
    "            in_channels = cnn_channels\n",
    "        \n",
    "        ##Activation and dropout \n",
    "        self.activation = nn.ReLU()\n",
    "        self.dropout = nn.Dropout(dropout_rate)\n",
    "        \n",
    "        #output layer \n",
    "        self.fc_out = nn.Linear(\n",
    "            cnn_channels,\n",
    "            num_classes_ss\n",
    "        )\n",
    "    \n",
    "    #forward pass\n",
    "    def forward(self,x):\n",
    "        #apply embedding \n",
    "        embedded = self.dropout(self.embeding(x))\n",
    "        conv_input = embedded.permute(0,2,1) #(batch_size,embed_dim,seq_len) \n",
    "        #apply CNN layers \n",
    "        conv_output = conv_input \n",
    "        for conv_layer in self.conv_layers:\n",
    "            conv_output = self.dropout(self.activation(conv_layer(conv_output))) #(batch,embed_dim,seq_len) --> (batch,out_channels,seq_len)\n",
    "        output_features = conv_output.permute(0,2,1) #(batch,out_channels,seq_len) --> (batch,seq_len,out_channels)\n",
    "\n",
    "        #final layers\n",
    "        logits = self.fc_out(output_features) #(batch,seq_len,num_classes_ss) \n",
    "        return logits\n"
   ]
  },
  {
   "cell_type": "code",
   "execution_count": 26,
   "metadata": {},
   "outputs": [],
   "source": [
    "##Hyperparams\n",
    "VOCAB_AA = len(aa_list_pad)\n",
    "NUM_CLASSES_SS = len(ss_list_pad) \n",
    "EMBEDDING_DIM = 100 \n",
    "CNN_CHANNELS = 128 \n",
    "KERNEL_SIZES = [3, 4, 5] #STACK 3 CONV1D LAYERS\n",
    "DROPOUT_RATE = 0.4"
   ]
  },
  {
   "cell_type": "code",
   "execution_count": 27,
   "metadata": {},
   "outputs": [
    {
     "name": "stdout",
     "output_type": "stream",
     "text": [
      "cuda\n"
     ]
    },
    {
     "data": {
      "text/plain": [
       "SecondaryStructurePredictor(\n",
       "  (embeding): Embedding(22, 100, padding_idx=0)\n",
       "  (conv_layers): ModuleList(\n",
       "    (0): Conv1d(100, 128, kernel_size=(3,), stride=(1,), padding=same)\n",
       "    (1): Conv1d(128, 128, kernel_size=(4,), stride=(1,), padding=same)\n",
       "    (2): Conv1d(128, 128, kernel_size=(5,), stride=(1,), padding=same)\n",
       "  )\n",
       "  (activation): ReLU()\n",
       "  (dropout): Dropout(p=0.4, inplace=False)\n",
       "  (fc_out): Linear(in_features=128, out_features=4, bias=True)\n",
       ")"
      ]
     },
     "execution_count": 27,
     "metadata": {},
     "output_type": "execute_result"
    }
   ],
   "source": [
    "device = torch.device(\"cuda\" if torch.cuda.is_available() else \"cpu\") \n",
    "print(device) \n",
    "\n",
    "model = SecondaryStructurePredictor(VOCAB_AA, NUM_CLASSES_SS, EMBEDDING_DIM, CNN_CHANNELS, KERNEL_SIZES, DROPOUT_RATE,pad_idx_aa=PAD_ID_AA).to(device) \n",
    "model "
   ]
  },
  {
   "cell_type": "code",
   "execution_count": 28,
   "metadata": {},
   "outputs": [
    {
     "name": "stdout",
     "output_type": "stream",
     "text": [
      "\n",
      "Input shape: torch.Size([8, 483])\n",
      "Output logits shape: torch.Size([8, 483, 4])\n"
     ]
    },
    {
     "name": "stderr",
     "output_type": "stream",
     "text": [
      "c:\\Users\\BiswanathSaha\\miniconda3\\envs\\stable\\lib\\site-packages\\torch\\nn\\modules\\conv.py:370: UserWarning: Using padding='same' with even kernel lengths and odd dilation may require a zero-padded copy of the input be created (Triggered internally at C:\\actions-runner\\_work\\pytorch\\pytorch\\pytorch\\aten\\src\\ATen\\native\\Convolution.cpp:1037.)\n",
      "  return F.conv1d(\n"
     ]
    }
   ],
   "source": [
    "#test a single forward pass\n",
    "dummy_seq_batch, _ = next(iter(train_loader))\n",
    "dummy_seq_batch = dummy_seq_batch.to(device)\n",
    "print(\"\\nInput shape:\", dummy_seq_batch.shape) \n",
    "\n",
    "with torch.no_grad(): # No need to calculate gradients for testing\n",
    "    model.eval() # Set model to evaluation mode\n",
    "    output_logits = model(dummy_seq_batch)\n",
    "    model.train() # Set model back to training mode\n",
    "\n",
    "print(\"Output logits shape:\", output_logits.shape) # Should be [batch_size, seq_len, num_classes_sst3] "
   ]
  },
  {
   "cell_type": "code",
   "execution_count": 29,
   "metadata": {},
   "outputs": [],
   "source": [
    "criterion = nn.CrossEntropyLoss(ignore_index=PAD_ID_SS) #ss \n",
    "optimizer = torch.optim.Adam(model.parameters(), lr=0.001) "
   ]
  },
  {
   "cell_type": "code",
   "execution_count": 30,
   "metadata": {},
   "outputs": [],
   "source": [
    "from sklearn.metrics import accuracy_score \n",
    "from tqdm.notebook import tqdm\n",
    "\n",
    "def train_epoch(model, data_loader, criterion, optimizer, device):\n",
    "    \"\"\"Trains the model for one epoch.\"\"\"\n",
    "    model.train() # Set model to training mode\n",
    "    total_loss = 0.0\n",
    "    # Assuming collate_fn returns (seqs, labels) tuple\n",
    "    for seqs, labels in data_loader:\n",
    "        seqs = seqs.to(device)\n",
    "        labels = labels.to(device)\n",
    "\n",
    "        optimizer.zero_grad()\n",
    "        outputs = model(seqs) # Shape: (batch, seq_len, num_classes)\n",
    "\n",
    "        # Reshape for criterion (e.g., CrossEntropyLoss)\n",
    "        # Assumes criterion expects (N, C) and (N,) and handles ignore_index\n",
    "        loss = criterion(outputs.view(-1, outputs.shape[-1]), labels.view(-1))\n",
    "\n",
    "        loss.backward()\n",
    "        optimizer.step()\n",
    "        total_loss += loss.item()\n",
    "\n",
    "    return total_loss / len(data_loader)  "
   ]
  },
  {
   "cell_type": "code",
   "execution_count": 31,
   "metadata": {},
   "outputs": [],
   "source": [
    "def evaluate_model(model, data_loader, criterion, device, PAD_ID_SS):\n",
    "    \"\"\"Evaluates the model on a given dataset.\"\"\"\n",
    "    model.eval() # Set model to evaluation mode\n",
    "    total_loss = 0.0\n",
    "    total_correct = 0\n",
    "    total_items = 0\n",
    "\n",
    "    with torch.no_grad(): # Disable gradient calculations\n",
    "        # Assuming collate_fn returns (seqs, labels) tuple\n",
    "        for seqs, labels in data_loader:\n",
    "            seqs = seqs.to(device)\n",
    "            labels = labels.to(device)\n",
    "\n",
    "            outputs = model(seqs) # Shape: (batch, seq_len, num_classes)\n",
    "\n",
    "            # Calculate loss (criterion handles ignore_index)\n",
    "            loss = criterion(outputs.view(-1, outputs.shape[-1]), labels.view(-1))\n",
    "            total_loss += loss.item()\n",
    "\n",
    "            # Calculate accuracy, ignoring padding\n",
    "            preds = torch.argmax(outputs, dim=-1) # Shape: (batch, seq_len)\n",
    "            mask = (labels != PAD_ID_SS) # Create mask for non-padding tokens\n",
    "\n",
    "            correct_in_batch = (preds[mask] == labels[mask]).sum().item()\n",
    "            items_in_batch = mask.sum().item()\n",
    "\n",
    "            total_correct += correct_in_batch\n",
    "            total_items += items_in_batch\n",
    "\n",
    "    avg_loss = total_loss / len(data_loader)\n",
    "    # Handle potential division by zero if data_loader is empty or all items are padded\n",
    "    avg_acc = (total_correct / total_items) if total_items > 0 else 0\n",
    "\n",
    "    return avg_loss, avg_acc "
   ]
  },
  {
   "cell_type": "code",
   "execution_count": 32,
   "metadata": {},
   "outputs": [
    {
     "data": {
      "application/vnd.jupyter.widget-view+json": {
       "model_id": "26c61f3a0c44472da69cfe7c7175e6e5",
       "version_major": 2,
       "version_minor": 0
      },
      "text/plain": [
       "  0%|          | 0/100 [00:00<?, ?it/s]"
      ]
     },
     "metadata": {},
     "output_type": "display_data"
    },
    {
     "name": "stdout",
     "output_type": "stream",
     "text": [
      "Epoch 1/100, Train Loss: 0.8605, Val Loss: 0.7898, Val Accuracy: 0.6508\n",
      "Epoch 2/100, Train Loss: 0.8175, Val Loss: 0.7802, Val Accuracy: 0.6562\n",
      "Epoch 3/100, Train Loss: 0.8102, Val Loss: 0.7836, Val Accuracy: 0.6545\n",
      "Epoch 4/100, Train Loss: 0.8060, Val Loss: 0.7803, Val Accuracy: 0.6560\n",
      "Epoch 5/100, Train Loss: 0.8042, Val Loss: 0.7728, Val Accuracy: 0.6598\n",
      "Epoch 6/100, Train Loss: 0.8027, Val Loss: 0.7710, Val Accuracy: 0.6620\n",
      "Epoch 7/100, Train Loss: 0.8001, Val Loss: 0.7694, Val Accuracy: 0.6618\n",
      "Epoch 8/100, Train Loss: 0.7993, Val Loss: 0.7984, Val Accuracy: 0.6443\n",
      "Epoch 9/100, Train Loss: 0.7985, Val Loss: 0.7681, Val Accuracy: 0.6634\n",
      "Epoch 10/100, Train Loss: 0.7978, Val Loss: 0.7675, Val Accuracy: 0.6634\n",
      "Epoch 11/100, Train Loss: 0.7978, Val Loss: 0.7689, Val Accuracy: 0.6646\n",
      "Epoch 12/100, Train Loss: 0.7971, Val Loss: 0.7690, Val Accuracy: 0.6634\n",
      "Epoch 13/100, Train Loss: 0.7955, Val Loss: 0.7668, Val Accuracy: 0.6645\n",
      "Epoch 14/100, Train Loss: 0.7958, Val Loss: 0.7648, Val Accuracy: 0.6653\n",
      "Epoch 15/100, Train Loss: 0.7947, Val Loss: 0.7640, Val Accuracy: 0.6647\n",
      "Epoch 16/100, Train Loss: 0.7953, Val Loss: 0.7699, Val Accuracy: 0.6648\n",
      "Epoch 17/100, Train Loss: 0.7934, Val Loss: 0.7705, Val Accuracy: 0.6631\n",
      "Epoch 18/100, Train Loss: 0.7943, Val Loss: 0.7671, Val Accuracy: 0.6618\n",
      "Epoch 19/100, Train Loss: 0.7935, Val Loss: 0.7645, Val Accuracy: 0.6653\n",
      "Epoch 20/100, Train Loss: 0.7933, Val Loss: 0.7659, Val Accuracy: 0.6634\n",
      "Epoch 21/100, Train Loss: 0.7925, Val Loss: 0.7663, Val Accuracy: 0.6649\n",
      "Epoch 22/100, Train Loss: 0.7932, Val Loss: 0.7672, Val Accuracy: 0.6639\n",
      "Epoch 23/100, Train Loss: 0.7920, Val Loss: 0.7649, Val Accuracy: 0.6658\n",
      "Epoch 24/100, Train Loss: 0.7909, Val Loss: 0.7677, Val Accuracy: 0.6626\n",
      "Epoch 25/100, Train Loss: 0.7908, Val Loss: 0.7638, Val Accuracy: 0.6662\n",
      "Epoch 26/100, Train Loss: 0.7913, Val Loss: 0.7622, Val Accuracy: 0.6660\n",
      "Epoch 27/100, Train Loss: 0.7911, Val Loss: 0.7722, Val Accuracy: 0.6612\n",
      "Epoch 28/100, Train Loss: 0.7905, Val Loss: 0.7616, Val Accuracy: 0.6659\n",
      "Epoch 29/100, Train Loss: 0.7908, Val Loss: 0.7621, Val Accuracy: 0.6660\n",
      "Epoch 30/100, Train Loss: 0.7898, Val Loss: 0.7602, Val Accuracy: 0.6662\n",
      "Epoch 31/100, Train Loss: 0.7896, Val Loss: 0.7632, Val Accuracy: 0.6662\n",
      "Epoch 32/100, Train Loss: 0.7886, Val Loss: 0.7659, Val Accuracy: 0.6632\n",
      "Epoch 33/100, Train Loss: 0.7885, Val Loss: 0.7646, Val Accuracy: 0.6660\n",
      "Epoch 34/100, Train Loss: 0.7891, Val Loss: 0.7628, Val Accuracy: 0.6647\n",
      "Epoch 35/100, Train Loss: 0.7887, Val Loss: 0.7621, Val Accuracy: 0.6656\n",
      "Epoch 36/100, Train Loss: 0.7885, Val Loss: 0.7659, Val Accuracy: 0.6638\n",
      "Epoch 37/100, Train Loss: 0.7875, Val Loss: 0.7606, Val Accuracy: 0.6656\n",
      "Epoch 38/100, Train Loss: 0.7874, Val Loss: 0.7618, Val Accuracy: 0.6656\n",
      "Epoch 39/100, Train Loss: 0.7868, Val Loss: 0.7656, Val Accuracy: 0.6648\n",
      "Epoch 40/100, Train Loss: 0.7869, Val Loss: 0.7691, Val Accuracy: 0.6642\n",
      "Epoch 41/100, Train Loss: 0.7871, Val Loss: 0.7624, Val Accuracy: 0.6660\n",
      "Epoch 42/100, Train Loss: 0.7859, Val Loss: 0.7611, Val Accuracy: 0.6653\n",
      "Epoch 43/100, Train Loss: 0.7869, Val Loss: 0.7610, Val Accuracy: 0.6664\n",
      "Epoch 44/100, Train Loss: 0.7858, Val Loss: 0.7619, Val Accuracy: 0.6647\n",
      "Epoch 45/100, Train Loss: 0.7859, Val Loss: 0.7612, Val Accuracy: 0.6664\n",
      "Epoch 46/100, Train Loss: 0.7860, Val Loss: 0.7606, Val Accuracy: 0.6655\n",
      "Epoch 47/100, Train Loss: 0.7857, Val Loss: 0.7629, Val Accuracy: 0.6648\n",
      "Epoch 48/100, Train Loss: 0.7857, Val Loss: 0.7637, Val Accuracy: 0.6661\n",
      "Epoch 49/100, Train Loss: 0.7844, Val Loss: 0.7614, Val Accuracy: 0.6659\n",
      "Epoch 50/100, Train Loss: 0.7844, Val Loss: 0.7605, Val Accuracy: 0.6663\n",
      "Epoch 51/100, Train Loss: 0.7845, Val Loss: 0.7663, Val Accuracy: 0.6631\n",
      "Epoch 52/100, Train Loss: 0.7844, Val Loss: 0.7644, Val Accuracy: 0.6643\n",
      "Epoch 53/100, Train Loss: 0.7842, Val Loss: 0.7586, Val Accuracy: 0.6667\n",
      "Epoch 54/100, Train Loss: 0.7843, Val Loss: 0.7591, Val Accuracy: 0.6673\n",
      "Epoch 55/100, Train Loss: 0.7840, Val Loss: 0.7610, Val Accuracy: 0.6654\n",
      "Epoch 56/100, Train Loss: 0.7833, Val Loss: 0.7607, Val Accuracy: 0.6668\n",
      "Epoch 57/100, Train Loss: 0.7833, Val Loss: 0.7623, Val Accuracy: 0.6676\n",
      "Epoch 58/100, Train Loss: 0.7832, Val Loss: 0.7605, Val Accuracy: 0.6657\n",
      "Epoch 59/100, Train Loss: 0.7836, Val Loss: 0.7586, Val Accuracy: 0.6671\n",
      "Epoch 60/100, Train Loss: 0.7831, Val Loss: 0.7608, Val Accuracy: 0.6661\n",
      "Epoch 61/100, Train Loss: 0.7822, Val Loss: 0.7585, Val Accuracy: 0.6669\n",
      "Epoch 62/100, Train Loss: 0.7831, Val Loss: 0.7606, Val Accuracy: 0.6659\n",
      "Epoch 63/100, Train Loss: 0.7830, Val Loss: 0.7594, Val Accuracy: 0.6671\n",
      "Epoch 64/100, Train Loss: 0.7830, Val Loss: 0.7584, Val Accuracy: 0.6669\n",
      "Epoch 65/100, Train Loss: 0.7826, Val Loss: 0.7584, Val Accuracy: 0.6671\n",
      "Epoch 66/100, Train Loss: 0.7821, Val Loss: 0.7584, Val Accuracy: 0.6673\n",
      "Epoch 67/100, Train Loss: 0.7823, Val Loss: 0.7580, Val Accuracy: 0.6669\n",
      "Epoch 68/100, Train Loss: 0.7822, Val Loss: 0.7564, Val Accuracy: 0.6670\n",
      "Epoch 69/100, Train Loss: 0.7817, Val Loss: 0.7584, Val Accuracy: 0.6677\n",
      "Epoch 70/100, Train Loss: 0.7826, Val Loss: 0.7680, Val Accuracy: 0.6620\n",
      "Epoch 71/100, Train Loss: 0.7814, Val Loss: 0.7629, Val Accuracy: 0.6667\n",
      "Epoch 72/100, Train Loss: 0.7822, Val Loss: 0.7586, Val Accuracy: 0.6676\n",
      "Epoch 73/100, Train Loss: 0.7818, Val Loss: 0.7586, Val Accuracy: 0.6669\n",
      "Epoch 74/100, Train Loss: 0.7822, Val Loss: 0.7584, Val Accuracy: 0.6673\n",
      "Epoch 75/100, Train Loss: 0.7821, Val Loss: 0.7587, Val Accuracy: 0.6679\n",
      "Epoch 76/100, Train Loss: 0.7822, Val Loss: 0.7556, Val Accuracy: 0.6678\n",
      "Epoch 77/100, Train Loss: 0.7817, Val Loss: 0.7601, Val Accuracy: 0.6657\n",
      "Epoch 78/100, Train Loss: 0.7822, Val Loss: 0.7590, Val Accuracy: 0.6663\n",
      "Epoch 79/100, Train Loss: 0.7815, Val Loss: 0.7596, Val Accuracy: 0.6658\n",
      "Epoch 80/100, Train Loss: 0.7819, Val Loss: 0.7577, Val Accuracy: 0.6675\n",
      "Epoch 81/100, Train Loss: 0.7818, Val Loss: 0.7584, Val Accuracy: 0.6668\n",
      "Epoch 82/100, Train Loss: 0.7819, Val Loss: 0.7573, Val Accuracy: 0.6679\n",
      "Epoch 83/100, Train Loss: 0.7812, Val Loss: 0.7572, Val Accuracy: 0.6681\n",
      "Epoch 84/100, Train Loss: 0.7820, Val Loss: 0.7634, Val Accuracy: 0.6640\n",
      "Epoch 85/100, Train Loss: 0.7820, Val Loss: 0.7668, Val Accuracy: 0.6633\n",
      "Epoch 86/100, Train Loss: 0.7815, Val Loss: 0.7564, Val Accuracy: 0.6681\n",
      "Epoch 87/100, Train Loss: 0.7820, Val Loss: 0.7590, Val Accuracy: 0.6658\n",
      "Epoch 88/100, Train Loss: 0.7820, Val Loss: 0.7562, Val Accuracy: 0.6673\n",
      "Epoch 89/100, Train Loss: 0.7809, Val Loss: 0.7576, Val Accuracy: 0.6675\n",
      "Epoch 90/100, Train Loss: 0.7812, Val Loss: 0.7583, Val Accuracy: 0.6679\n",
      "Epoch 91/100, Train Loss: 0.7823, Val Loss: 0.7583, Val Accuracy: 0.6675\n",
      "Epoch 92/100, Train Loss: 0.7811, Val Loss: 0.7581, Val Accuracy: 0.6673\n",
      "Epoch 93/100, Train Loss: 0.7814, Val Loss: 0.7583, Val Accuracy: 0.6676\n",
      "Epoch 94/100, Train Loss: 0.7811, Val Loss: 0.7586, Val Accuracy: 0.6674\n",
      "Epoch 95/100, Train Loss: 0.7815, Val Loss: 0.7589, Val Accuracy: 0.6672\n",
      "Epoch 96/100, Train Loss: 0.7805, Val Loss: 0.7584, Val Accuracy: 0.6678\n",
      "Epoch 97/100, Train Loss: 0.7813, Val Loss: 0.7572, Val Accuracy: 0.6674\n",
      "Epoch 98/100, Train Loss: 0.7802, Val Loss: 0.7590, Val Accuracy: 0.6662\n",
      "Epoch 99/100, Train Loss: 0.7805, Val Loss: 0.7572, Val Accuracy: 0.6673\n",
      "Epoch 100/100, Train Loss: 0.7808, Val Loss: 0.7575, Val Accuracy: 0.6674\n",
      "Training complete\n"
     ]
    }
   ],
   "source": [
    "epochs = 100 \n",
    "train_losses = []\n",
    "val_losses = []\n",
    "val_accuracies = []\n",
    "\n",
    "for epoch in tqdm(range(epochs)): \n",
    "    train_loss = train_epoch(model, train_loader, criterion, optimizer, device)\n",
    "    train_losses.append(train_loss)\n",
    "\n",
    "    val_loss, val_accuracy = evaluate_model(model, val_loader, criterion, device,PAD_ID_SS)\n",
    "    val_losses.append(val_loss)\n",
    "    val_accuracies.append(val_accuracy)\n",
    "\n",
    "    print(f\"Epoch {epoch+1}/{epochs}, Train Loss: {train_loss:.4f}, Val Loss: {val_loss:.4f}, Val Accuracy: {val_accuracy:.4f}\")\n",
    "\n",
    "print(\"Training complete\") "
   ]
  },
  {
   "cell_type": "code",
   "execution_count": 33,
   "metadata": {},
   "outputs": [
    {
     "data": {
      "image/png": "[encoded data removed]",
      "text/plain": [
       "<Figure size 640x480 with 1 Axes>"
      ]
     },
     "metadata": {},
     "output_type": "display_data"
    }
   ],
   "source": [
    "import matplotlib.pyplot as plt \n",
    "plt.plot(train_losses, label='Train Loss')\n",
    "plt.plot(val_losses, label='Val Loss')\n",
    "plt.legend()\n",
    "plt.show()"
   ]
  },
  {
   "cell_type": "code",
   "execution_count": 36,
   "metadata": {},
   "outputs": [],
   "source": [
    "torch.save(model.state_dict(), \"secondary_structure_model_epoch_100.pth\") # Save the model "
   ]
  },
  {
   "cell_type": "code",
   "execution_count": 34,
   "metadata": {},
   "outputs": [
    {
     "name": "stdout",
     "output_type": "stream",
     "text": [
      "Average train loss:  0.7880874049724765\n",
      "Average val loss:  0.7632709107870859\n",
      "Average val accuracy:  0.6650354963232656\n"
     ]
    }
   ],
   "source": [
    "print('Average train loss: ', np.mean(train_losses))\n",
    "print('Average val loss: ', np.mean(val_losses))\n",
    "print('Average val accuracy: ', np.mean(val_accuracies))"
   ]
  },
  {
   "cell_type": "markdown",
   "metadata": {},
   "source": [
    "## Interpretation\n",
    "1. Model does learn from the training data.\n",
    "2. No Clear overfitting.\n",
    "3. Performance plateaus after towards the end of 100 epochs.\n",
    "4. Average per residue accuracy on validation set is around 60%.  Decent result, but not outstanding. of course the model is not that complex."
   ]
  },
  {
   "cell_type": "code",
   "execution_count": 35,
   "metadata": {},
   "outputs": [
    {
     "name": "stdout",
     "output_type": "stream",
     "text": [
      "Evaluating on Test Set...\n",
      "Test Loss: 0.7576\n",
      "Test Accuracy: 0.6678\n"
     ]
    }
   ],
   "source": [
    "print(\"Evaluating on Test Set...\")\n",
    "test_loss, test_acc = evaluate_model(model, test_loader, criterion, device, PAD_ID_SS)\n",
    "\n",
    "print(f\"Test Loss: {test_loss:.4f}\")\n",
    "print(f\"Test Accuracy: {test_acc:.4f}\") "
   ]
  },
  {
   "cell_type": "code",
   "execution_count": 44,
   "metadata": {},
   "outputs": [],
   "source": [
    "import random\n",
    "\n",
    "def predict_compare_sample(model,dataset,idx_to_aa,idx_to_ss,device,sample_idx=None):\n",
    "    if sample_idx is None:\n",
    "        sample_idx = random.randint(0,len(dataset)-1)\n",
    "    elif sample_idx >= len(dataset):\n",
    "        print(f\"Warning: sample_idx {sample_idx} is out of bounds for dataset size {len(dataset)}. Using index 0.\")\n",
    "        sample_idx = 0\n",
    "    \n",
    "    item = dataset[sample_idx]\n",
    "    seq_tensor = item['seq']\n",
    "    label_tensor = item['label']\n",
    "    seq_len = len(seq_tensor)\n",
    "\n",
    "    model_inputs = seq_tensor.unsqueeze(0).to(device)\n",
    "\n",
    "    model.eval()\n",
    "    with torch.no_grad():\n",
    "        model_outputs = model(model_inputs)\n",
    "    \n",
    "    pred_tensor = torch.argmax(model_outputs, dim=-1) \n",
    "    pred_tensor = pred_tensor.squeeze(0).cpu().numpy()\n",
    "    \n",
    "    original_seq = \"\".join([idx_to_aa.get(idx.item(),'?') for idx in seq_tensor])\n",
    "    actual_ss = \"\".join([idx_to_ss.get(idx.item(),'?') for idx in label_tensor])\n",
    "    predicted_ss = \"\".join([idx_to_ss.get(idx.item(),'?') for idx in pred_tensor])\n",
    "\n",
    "    mismatches = \"\"\n",
    "    wrong_idx = []\n",
    "    for i in range(seq_len):\n",
    "        if label_tensor[i] == pred_tensor[i]:\n",
    "            mismatches += \" \"\n",
    "        else:\n",
    "            mismatches += \"X\"\n",
    "            wrong_idx.append(i)\n",
    "    print(f\"--- Sample Index: {sample_idx} ---\")\n",
    "    print(f\"Length: {seq_len}\")\n",
    "    print(f\"Input Sequence: {original_seq}\")\n",
    "    print(f\"Actual SS     : {actual_ss}\")\n",
    "    print(f\"Predicted SS  : {predicted_ss}\")\n",
    "    print(\"-\" * (len(original_seq) + 18)) \n",
    "\n",
    "    correct_preds = (label_tensor == pred_tensor).sum().item()\n",
    "    accuracy = correct_preds / seq_len\n",
    "    print(f\"Accuracy: {accuracy:.4f}\") \n",
    "\n",
    "    if wrong_idx:\n",
    "        print(f\"Incorrect prediction indices: {wrong_idx}\")\n",
    "    else:\n",
    "        print(\"All predictions correct for this sample.\")\n"
   ]
  },
  {
   "cell_type": "code",
   "execution_count": 45,
   "metadata": {},
   "outputs": [
    {
     "name": "stdout",
     "output_type": "stream",
     "text": [
      "--- Sample Index: 0 ---\n",
      "Length: 133\n",
      "Input Sequence: GMSNKFLGTWKLVSSENFDDYMKALGVGLATRKLGNLAKPTVIISKKGDIITIRTESTFKNTEISFKLGQEFEETTADNRKTKSIVTLQRGSLNQVQRWDGKETTIKRKLVNGKMVAEXKMKGVVXTRIYEKV\n",
      "Actual SS     : CCCHHHCEEEEEEEEECHHHHHHHCCCCHHHHHHHHHCCCEEEEEEECCEEEEEEECCCCEEEEEECCCCCEEEECCCCCEEEEEEEEECCEEEEEEEECCEEEEEEEEEECCEEEEEEEECCEEEEEEEEEC\n",
      "Predicted SS  : CCCCCHECEEEEECCCCHHHHHHHCCCCHHHHHHCCCCCCEEEEECCCCEEEEEECCCCCCCEEEEECCHHHHHCCCCCCCCCEEEEEECCCHHHHEEECCCEEHHHHHHECCHHEHHHHHCCEEEHHHHCCC\n",
      "-------------------------------------------------------------------------------------------------------------------------------------------------------\n",
      "Accuracy: 0.6241\n",
      "Incorrect prediction indices: [3, 4, 6, 7, 13, 14, 15, 34, 35, 36, 45, 46, 55, 60, 61, 66, 69, 70, 71, 72, 73, 74, 80, 81, 82, 91, 92, 93, 94, 95, 101, 104, 105, 106, 107, 108, 109, 113, 114, 116, 117, 118, 119, 120, 126, 127, 128, 129, 130, 131]\n"
     ]
    }
   ],
   "source": [
    "predict_compare_sample(model,test_dataset,aa_idx_to_aa,ss_idx_to_ss,device,sample_idx=0)  "
   ]
  },
  {
   "cell_type": "markdown",
   "metadata": {},
   "source": [
    "Next, I will try to improve the model's performance with hyperparameter tuning with wandb."
   ]
  }
 ],
 "metadata": {
  "kernelspec": {
   "display_name": "stable",
   "language": "python",
   "name": "python3"
  },
  "language_info": {
   "codemirror_mode": {
    "name": "ipython",
    "version": 3
   },
   "file_extension": ".py",
   "mimetype": "text/x-python",
   "name": "python",
   "nbconvert_exporter": "python",
   "pygments_lexer": "ipython3",
   "version": "3.10.16"
  }
 },
 "nbformat": 4,
 "nbformat_minor": 2
}
